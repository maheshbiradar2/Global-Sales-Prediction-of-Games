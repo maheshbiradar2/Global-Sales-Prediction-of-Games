{
 "cells": [
  {
   "cell_type": "code",
   "execution_count": 1,
   "metadata": {},
   "outputs": [],
   "source": [
    "import numpy as np\n",
    "import pandas as pd"
   ]
  },
  {
   "cell_type": "code",
   "execution_count": 2,
   "metadata": {},
   "outputs": [],
   "source": [
    "train=pd.read_csv(r\"C:\\Users\\Lenovo\\Desktop\\level1 p1\\training_data.csv\")\n",
    "test=pd.read_csv(r\"C:\\Users\\Lenovo\\Desktop\\level1 p1\\test_data.csv\")"
   ]
  },
  {
   "cell_type": "code",
   "execution_count": 3,
   "metadata": {},
   "outputs": [
    {
     "data": {
      "text/html": [
       "<div>\n",
       "<style scoped>\n",
       "    .dataframe tbody tr th:only-of-type {\n",
       "        vertical-align: middle;\n",
       "    }\n",
       "\n",
       "    .dataframe tbody tr th {\n",
       "        vertical-align: top;\n",
       "    }\n",
       "\n",
       "    .dataframe thead th {\n",
       "        text-align: right;\n",
       "    }\n",
       "</style>\n",
       "<table border=\"1\" class=\"dataframe\">\n",
       "  <thead>\n",
       "    <tr style=\"text-align: right;\">\n",
       "      <th></th>\n",
       "      <th>Row_ID</th>\n",
       "      <th>Application</th>\n",
       "      <th>Device</th>\n",
       "      <th>Launch_Year</th>\n",
       "      <th>Domain</th>\n",
       "      <th>Developer_comapny</th>\n",
       "      <th>Indian_Sales</th>\n",
       "      <th>China_Sales</th>\n",
       "      <th>Korea_Sales</th>\n",
       "      <th>Other_Sales</th>\n",
       "      <th>Global_Sales</th>\n",
       "      <th>ScorebyCritic</th>\n",
       "      <th>No_ofCritics</th>\n",
       "      <th>ScorebyUser</th>\n",
       "      <th>No_ofUsers</th>\n",
       "      <th>Developer</th>\n",
       "      <th>Overall_Rating</th>\n",
       "    </tr>\n",
       "  </thead>\n",
       "  <tbody>\n",
       "    <tr>\n",
       "      <th>0</th>\n",
       "      <td>0</td>\n",
       "      <td>Wii Sports</td>\n",
       "      <td>Wii</td>\n",
       "      <td>2006.0</td>\n",
       "      <td>Sports</td>\n",
       "      <td>Nintendo</td>\n",
       "      <td>41.36</td>\n",
       "      <td>28.96</td>\n",
       "      <td>3.77</td>\n",
       "      <td>8.45</td>\n",
       "      <td>82.53</td>\n",
       "      <td>76.0</td>\n",
       "      <td>51.0</td>\n",
       "      <td>8</td>\n",
       "      <td>322.0</td>\n",
       "      <td>Nintendo</td>\n",
       "      <td>E</td>\n",
       "    </tr>\n",
       "    <tr>\n",
       "      <th>1</th>\n",
       "      <td>1</td>\n",
       "      <td>Super Mario Bros.</td>\n",
       "      <td>NES</td>\n",
       "      <td>1985.0</td>\n",
       "      <td>Platform</td>\n",
       "      <td>Nintendo</td>\n",
       "      <td>29.08</td>\n",
       "      <td>3.58</td>\n",
       "      <td>6.81</td>\n",
       "      <td>0.77</td>\n",
       "      <td>40.24</td>\n",
       "      <td>NaN</td>\n",
       "      <td>NaN</td>\n",
       "      <td>NaN</td>\n",
       "      <td>NaN</td>\n",
       "      <td>NaN</td>\n",
       "      <td>NaN</td>\n",
       "    </tr>\n",
       "    <tr>\n",
       "      <th>2</th>\n",
       "      <td>2</td>\n",
       "      <td>Mario Kart Wii</td>\n",
       "      <td>Wii</td>\n",
       "      <td>2008.0</td>\n",
       "      <td>Racing</td>\n",
       "      <td>Nintendo</td>\n",
       "      <td>15.68</td>\n",
       "      <td>12.76</td>\n",
       "      <td>3.79</td>\n",
       "      <td>3.29</td>\n",
       "      <td>35.52</td>\n",
       "      <td>82.0</td>\n",
       "      <td>73.0</td>\n",
       "      <td>8.3</td>\n",
       "      <td>709.0</td>\n",
       "      <td>Nintendo</td>\n",
       "      <td>E</td>\n",
       "    </tr>\n",
       "    <tr>\n",
       "      <th>3</th>\n",
       "      <td>3</td>\n",
       "      <td>Wii Sports Resort</td>\n",
       "      <td>Wii</td>\n",
       "      <td>2009.0</td>\n",
       "      <td>Sports</td>\n",
       "      <td>Nintendo</td>\n",
       "      <td>15.61</td>\n",
       "      <td>10.93</td>\n",
       "      <td>3.28</td>\n",
       "      <td>2.95</td>\n",
       "      <td>32.77</td>\n",
       "      <td>80.0</td>\n",
       "      <td>73.0</td>\n",
       "      <td>8</td>\n",
       "      <td>192.0</td>\n",
       "      <td>Nintendo</td>\n",
       "      <td>E</td>\n",
       "    </tr>\n",
       "    <tr>\n",
       "      <th>4</th>\n",
       "      <td>4</td>\n",
       "      <td>Pokemon Red/Pokemon Blue</td>\n",
       "      <td>GB</td>\n",
       "      <td>1996.0</td>\n",
       "      <td>Role-Playing</td>\n",
       "      <td>Nintendo</td>\n",
       "      <td>11.27</td>\n",
       "      <td>8.89</td>\n",
       "      <td>10.22</td>\n",
       "      <td>1.00</td>\n",
       "      <td>31.37</td>\n",
       "      <td>NaN</td>\n",
       "      <td>NaN</td>\n",
       "      <td>NaN</td>\n",
       "      <td>NaN</td>\n",
       "      <td>NaN</td>\n",
       "      <td>NaN</td>\n",
       "    </tr>\n",
       "  </tbody>\n",
       "</table>\n",
       "</div>"
      ],
      "text/plain": [
       "   Row_ID               Application Device  Launch_Year        Domain  \\\n",
       "0       0                Wii Sports    Wii       2006.0        Sports   \n",
       "1       1         Super Mario Bros.    NES       1985.0      Platform   \n",
       "2       2            Mario Kart Wii    Wii       2008.0        Racing   \n",
       "3       3         Wii Sports Resort    Wii       2009.0        Sports   \n",
       "4       4  Pokemon Red/Pokemon Blue     GB       1996.0  Role-Playing   \n",
       "\n",
       "  Developer_comapny  Indian_Sales  China_Sales  Korea_Sales  Other_Sales  \\\n",
       "0          Nintendo         41.36        28.96         3.77         8.45   \n",
       "1          Nintendo         29.08         3.58         6.81         0.77   \n",
       "2          Nintendo         15.68        12.76         3.79         3.29   \n",
       "3          Nintendo         15.61        10.93         3.28         2.95   \n",
       "4          Nintendo         11.27         8.89        10.22         1.00   \n",
       "\n",
       "   Global_Sales  ScorebyCritic  No_ofCritics ScorebyUser  No_ofUsers  \\\n",
       "0         82.53           76.0          51.0           8       322.0   \n",
       "1         40.24            NaN           NaN         NaN         NaN   \n",
       "2         35.52           82.0          73.0         8.3       709.0   \n",
       "3         32.77           80.0          73.0           8       192.0   \n",
       "4         31.37            NaN           NaN         NaN         NaN   \n",
       "\n",
       "  Developer Overall_Rating  \n",
       "0  Nintendo              E  \n",
       "1       NaN            NaN  \n",
       "2  Nintendo              E  \n",
       "3  Nintendo              E  \n",
       "4       NaN            NaN  "
      ]
     },
     "execution_count": 3,
     "metadata": {},
     "output_type": "execute_result"
    }
   ],
   "source": [
    "train.head()"
   ]
  },
  {
   "cell_type": "code",
   "execution_count": 4,
   "metadata": {},
   "outputs": [
    {
     "data": {
      "text/html": [
       "<div>\n",
       "<style scoped>\n",
       "    .dataframe tbody tr th:only-of-type {\n",
       "        vertical-align: middle;\n",
       "    }\n",
       "\n",
       "    .dataframe tbody tr th {\n",
       "        vertical-align: top;\n",
       "    }\n",
       "\n",
       "    .dataframe thead th {\n",
       "        text-align: right;\n",
       "    }\n",
       "</style>\n",
       "<table border=\"1\" class=\"dataframe\">\n",
       "  <thead>\n",
       "    <tr style=\"text-align: right;\">\n",
       "      <th></th>\n",
       "      <th>Row_ID</th>\n",
       "      <th>Application</th>\n",
       "      <th>Device</th>\n",
       "      <th>Launch_Year</th>\n",
       "      <th>Domain</th>\n",
       "      <th>Developer_comapny</th>\n",
       "      <th>Indian_Sales</th>\n",
       "      <th>China_Sales</th>\n",
       "      <th>Korea_Sales</th>\n",
       "      <th>Other_Sales</th>\n",
       "      <th>ScorebyCritic</th>\n",
       "      <th>No_ofCritics</th>\n",
       "      <th>ScorebyUser</th>\n",
       "      <th>No_ofUsers</th>\n",
       "      <th>Developer</th>\n",
       "      <th>Overall_Rating</th>\n",
       "    </tr>\n",
       "  </thead>\n",
       "  <tbody>\n",
       "    <tr>\n",
       "      <th>0</th>\n",
       "      <td>0</td>\n",
       "      <td>ZooCube</td>\n",
       "      <td>GC</td>\n",
       "      <td>2002.0</td>\n",
       "      <td>Puzzle</td>\n",
       "      <td>Acclaim Entertainment</td>\n",
       "      <td>0.02</td>\n",
       "      <td>0.00</td>\n",
       "      <td>0.00</td>\n",
       "      <td>0.0</td>\n",
       "      <td>67.0</td>\n",
       "      <td>15.0</td>\n",
       "      <td>6.1</td>\n",
       "      <td>7.0</td>\n",
       "      <td>PuzzleKings</td>\n",
       "      <td>E</td>\n",
       "    </tr>\n",
       "    <tr>\n",
       "      <th>1</th>\n",
       "      <td>1</td>\n",
       "      <td>GRID Autosport</td>\n",
       "      <td>PC</td>\n",
       "      <td>2014.0</td>\n",
       "      <td>Racing</td>\n",
       "      <td>Codemasters</td>\n",
       "      <td>0.00</td>\n",
       "      <td>0.02</td>\n",
       "      <td>0.00</td>\n",
       "      <td>0.0</td>\n",
       "      <td>78.0</td>\n",
       "      <td>35.0</td>\n",
       "      <td>6.2</td>\n",
       "      <td>257.0</td>\n",
       "      <td>Codemasters</td>\n",
       "      <td>E</td>\n",
       "    </tr>\n",
       "    <tr>\n",
       "      <th>2</th>\n",
       "      <td>2</td>\n",
       "      <td>Spy Hunter / Super Sprint</td>\n",
       "      <td>GBA</td>\n",
       "      <td>2005.0</td>\n",
       "      <td>Racing</td>\n",
       "      <td>Zoo Digital Publishing</td>\n",
       "      <td>0.02</td>\n",
       "      <td>0.01</td>\n",
       "      <td>0.00</td>\n",
       "      <td>0.0</td>\n",
       "      <td>NaN</td>\n",
       "      <td>NaN</td>\n",
       "      <td>NaN</td>\n",
       "      <td>NaN</td>\n",
       "      <td>NaN</td>\n",
       "      <td>NaN</td>\n",
       "    </tr>\n",
       "    <tr>\n",
       "      <th>3</th>\n",
       "      <td>3</td>\n",
       "      <td>Demon Gaze 2</td>\n",
       "      <td>PSV</td>\n",
       "      <td>2014.0</td>\n",
       "      <td>Role-Playing</td>\n",
       "      <td>Experience Inc.</td>\n",
       "      <td>0.00</td>\n",
       "      <td>0.00</td>\n",
       "      <td>0.02</td>\n",
       "      <td>0.0</td>\n",
       "      <td>NaN</td>\n",
       "      <td>NaN</td>\n",
       "      <td>NaN</td>\n",
       "      <td>NaN</td>\n",
       "      <td>NaN</td>\n",
       "      <td>NaN</td>\n",
       "    </tr>\n",
       "    <tr>\n",
       "      <th>4</th>\n",
       "      <td>4</td>\n",
       "      <td>Clover no Kuni no Alice: Wonderful Wonder World</td>\n",
       "      <td>PS2</td>\n",
       "      <td>2010.0</td>\n",
       "      <td>Adventure</td>\n",
       "      <td>Prototype</td>\n",
       "      <td>0.00</td>\n",
       "      <td>0.00</td>\n",
       "      <td>0.02</td>\n",
       "      <td>0.0</td>\n",
       "      <td>NaN</td>\n",
       "      <td>NaN</td>\n",
       "      <td>NaN</td>\n",
       "      <td>NaN</td>\n",
       "      <td>NaN</td>\n",
       "      <td>NaN</td>\n",
       "    </tr>\n",
       "  </tbody>\n",
       "</table>\n",
       "</div>"
      ],
      "text/plain": [
       "   Row_ID                                      Application Device  \\\n",
       "0       0                                          ZooCube     GC   \n",
       "1       1                                   GRID Autosport     PC   \n",
       "2       2                        Spy Hunter / Super Sprint    GBA   \n",
       "3       3                                     Demon Gaze 2    PSV   \n",
       "4       4  Clover no Kuni no Alice: Wonderful Wonder World    PS2   \n",
       "\n",
       "   Launch_Year        Domain       Developer_comapny  Indian_Sales  \\\n",
       "0       2002.0        Puzzle   Acclaim Entertainment          0.02   \n",
       "1       2014.0        Racing             Codemasters          0.00   \n",
       "2       2005.0        Racing  Zoo Digital Publishing          0.02   \n",
       "3       2014.0  Role-Playing         Experience Inc.          0.00   \n",
       "4       2010.0     Adventure               Prototype          0.00   \n",
       "\n",
       "   China_Sales  Korea_Sales  Other_Sales  ScorebyCritic  No_ofCritics  \\\n",
       "0         0.00         0.00          0.0           67.0          15.0   \n",
       "1         0.02         0.00          0.0           78.0          35.0   \n",
       "2         0.01         0.00          0.0            NaN           NaN   \n",
       "3         0.00         0.02          0.0            NaN           NaN   \n",
       "4         0.00         0.02          0.0            NaN           NaN   \n",
       "\n",
       "  ScorebyUser  No_ofUsers    Developer Overall_Rating  \n",
       "0         6.1         7.0  PuzzleKings              E  \n",
       "1         6.2       257.0  Codemasters              E  \n",
       "2         NaN         NaN          NaN            NaN  \n",
       "3         NaN         NaN          NaN            NaN  \n",
       "4         NaN         NaN          NaN            NaN  "
      ]
     },
     "execution_count": 4,
     "metadata": {},
     "output_type": "execute_result"
    }
   ],
   "source": [
    "test.head()"
   ]
  },
  {
   "cell_type": "code",
   "execution_count": 5,
   "metadata": {},
   "outputs": [],
   "source": [
    "Row_ID=test['Row_ID']"
   ]
  },
  {
   "cell_type": "code",
   "execution_count": 6,
   "metadata": {},
   "outputs": [
    {
     "data": {
      "text/html": [
       "<div>\n",
       "<style scoped>\n",
       "    .dataframe tbody tr th:only-of-type {\n",
       "        vertical-align: middle;\n",
       "    }\n",
       "\n",
       "    .dataframe tbody tr th {\n",
       "        vertical-align: top;\n",
       "    }\n",
       "\n",
       "    .dataframe thead th {\n",
       "        text-align: right;\n",
       "    }\n",
       "</style>\n",
       "<table border=\"1\" class=\"dataframe\">\n",
       "  <thead>\n",
       "    <tr style=\"text-align: right;\">\n",
       "      <th></th>\n",
       "      <th>Device</th>\n",
       "      <th>Launch_Year</th>\n",
       "      <th>Domain</th>\n",
       "      <th>Developer_comapny</th>\n",
       "      <th>Indian_Sales</th>\n",
       "      <th>China_Sales</th>\n",
       "      <th>Korea_Sales</th>\n",
       "      <th>Other_Sales</th>\n",
       "      <th>Global_Sales</th>\n",
       "      <th>ScorebyCritic</th>\n",
       "      <th>No_ofCritics</th>\n",
       "      <th>ScorebyUser</th>\n",
       "      <th>No_ofUsers</th>\n",
       "      <th>Developer</th>\n",
       "      <th>Overall_Rating</th>\n",
       "    </tr>\n",
       "  </thead>\n",
       "  <tbody>\n",
       "    <tr>\n",
       "      <th>0</th>\n",
       "      <td>Wii</td>\n",
       "      <td>2006.0</td>\n",
       "      <td>Sports</td>\n",
       "      <td>Nintendo</td>\n",
       "      <td>41.36</td>\n",
       "      <td>28.96</td>\n",
       "      <td>3.77</td>\n",
       "      <td>8.45</td>\n",
       "      <td>82.53</td>\n",
       "      <td>76.0</td>\n",
       "      <td>51.0</td>\n",
       "      <td>8</td>\n",
       "      <td>322.0</td>\n",
       "      <td>Nintendo</td>\n",
       "      <td>E</td>\n",
       "    </tr>\n",
       "    <tr>\n",
       "      <th>1</th>\n",
       "      <td>NES</td>\n",
       "      <td>1985.0</td>\n",
       "      <td>Platform</td>\n",
       "      <td>Nintendo</td>\n",
       "      <td>29.08</td>\n",
       "      <td>3.58</td>\n",
       "      <td>6.81</td>\n",
       "      <td>0.77</td>\n",
       "      <td>40.24</td>\n",
       "      <td>NaN</td>\n",
       "      <td>NaN</td>\n",
       "      <td>NaN</td>\n",
       "      <td>NaN</td>\n",
       "      <td>NaN</td>\n",
       "      <td>NaN</td>\n",
       "    </tr>\n",
       "    <tr>\n",
       "      <th>2</th>\n",
       "      <td>Wii</td>\n",
       "      <td>2008.0</td>\n",
       "      <td>Racing</td>\n",
       "      <td>Nintendo</td>\n",
       "      <td>15.68</td>\n",
       "      <td>12.76</td>\n",
       "      <td>3.79</td>\n",
       "      <td>3.29</td>\n",
       "      <td>35.52</td>\n",
       "      <td>82.0</td>\n",
       "      <td>73.0</td>\n",
       "      <td>8.3</td>\n",
       "      <td>709.0</td>\n",
       "      <td>Nintendo</td>\n",
       "      <td>E</td>\n",
       "    </tr>\n",
       "    <tr>\n",
       "      <th>3</th>\n",
       "      <td>Wii</td>\n",
       "      <td>2009.0</td>\n",
       "      <td>Sports</td>\n",
       "      <td>Nintendo</td>\n",
       "      <td>15.61</td>\n",
       "      <td>10.93</td>\n",
       "      <td>3.28</td>\n",
       "      <td>2.95</td>\n",
       "      <td>32.77</td>\n",
       "      <td>80.0</td>\n",
       "      <td>73.0</td>\n",
       "      <td>8</td>\n",
       "      <td>192.0</td>\n",
       "      <td>Nintendo</td>\n",
       "      <td>E</td>\n",
       "    </tr>\n",
       "    <tr>\n",
       "      <th>4</th>\n",
       "      <td>GB</td>\n",
       "      <td>1996.0</td>\n",
       "      <td>Role-Playing</td>\n",
       "      <td>Nintendo</td>\n",
       "      <td>11.27</td>\n",
       "      <td>8.89</td>\n",
       "      <td>10.22</td>\n",
       "      <td>1.00</td>\n",
       "      <td>31.37</td>\n",
       "      <td>NaN</td>\n",
       "      <td>NaN</td>\n",
       "      <td>NaN</td>\n",
       "      <td>NaN</td>\n",
       "      <td>NaN</td>\n",
       "      <td>NaN</td>\n",
       "    </tr>\n",
       "  </tbody>\n",
       "</table>\n",
       "</div>"
      ],
      "text/plain": [
       "  Device  Launch_Year        Domain Developer_comapny  Indian_Sales  \\\n",
       "0    Wii       2006.0        Sports          Nintendo         41.36   \n",
       "1    NES       1985.0      Platform          Nintendo         29.08   \n",
       "2    Wii       2008.0        Racing          Nintendo         15.68   \n",
       "3    Wii       2009.0        Sports          Nintendo         15.61   \n",
       "4     GB       1996.0  Role-Playing          Nintendo         11.27   \n",
       "\n",
       "   China_Sales  Korea_Sales  Other_Sales  Global_Sales  ScorebyCritic  \\\n",
       "0        28.96         3.77         8.45         82.53           76.0   \n",
       "1         3.58         6.81         0.77         40.24            NaN   \n",
       "2        12.76         3.79         3.29         35.52           82.0   \n",
       "3        10.93         3.28         2.95         32.77           80.0   \n",
       "4         8.89        10.22         1.00         31.37            NaN   \n",
       "\n",
       "   No_ofCritics ScorebyUser  No_ofUsers Developer Overall_Rating  \n",
       "0          51.0           8       322.0  Nintendo              E  \n",
       "1           NaN         NaN         NaN       NaN            NaN  \n",
       "2          73.0         8.3       709.0  Nintendo              E  \n",
       "3          73.0           8       192.0  Nintendo              E  \n",
       "4           NaN         NaN         NaN       NaN            NaN  "
      ]
     },
     "execution_count": 6,
     "metadata": {},
     "output_type": "execute_result"
    }
   ],
   "source": [
    "train.drop(['Row_ID','Application'],axis=1,inplace=True)\n",
    "train.head()"
   ]
  },
  {
   "cell_type": "code",
   "execution_count": 7,
   "metadata": {},
   "outputs": [],
   "source": [
    "train_na=train.isnull().sum(axis=0).sort_values(ascending=False)/float(len(train))"
   ]
  },
  {
   "cell_type": "code",
   "execution_count": 8,
   "metadata": {},
   "outputs": [
    {
     "data": {
      "text/plain": [
       "No_ofUsers           0.522172\n",
       "No_ofCritics         0.489694\n",
       "ScorebyCritic        0.489694\n",
       "Overall_Rating       0.381747\n",
       "ScorebyUser          0.378492\n",
       "Developer            0.374424\n",
       "Launch_Year          0.015663\n",
       "Developer_comapny    0.002780\n",
       "Domain               0.000136\n",
       "Global_Sales         0.000000\n",
       "Other_Sales          0.000000\n",
       "Korea_Sales          0.000000\n",
       "China_Sales          0.000000\n",
       "Indian_Sales         0.000000\n",
       "Device               0.000000\n",
       "dtype: float64"
      ]
     },
     "execution_count": 8,
     "metadata": {},
     "output_type": "execute_result"
    }
   ],
   "source": [
    "train_na"
   ]
  },
  {
   "cell_type": "code",
   "execution_count": 9,
   "metadata": {},
   "outputs": [],
   "source": [
    "test_na=test.isnull().sum(axis=0).sort_values(ascending=False)/float(len(test))"
   ]
  },
  {
   "cell_type": "code",
   "execution_count": 10,
   "metadata": {},
   "outputs": [
    {
     "data": {
      "text/plain": [
       "No_ofUsers           0.715560\n",
       "No_ofCritics         0.682359\n",
       "ScorebyCritic        0.682359\n",
       "Overall_Rating       0.572349\n",
       "ScorebyUser          0.563925\n",
       "Developer            0.553518\n",
       "Launch_Year          0.018831\n",
       "Developer_comapny    0.006442\n",
       "Other_Sales          0.000000\n",
       "Korea_Sales          0.000000\n",
       "China_Sales          0.000000\n",
       "Indian_Sales         0.000000\n",
       "Domain               0.000000\n",
       "Device               0.000000\n",
       "Application          0.000000\n",
       "Row_ID               0.000000\n",
       "dtype: float64"
      ]
     },
     "execution_count": 10,
     "metadata": {},
     "output_type": "execute_result"
    }
   ],
   "source": [
    "test_na"
   ]
  },
  {
   "cell_type": "code",
   "execution_count": 11,
   "metadata": {},
   "outputs": [
    {
     "data": {
      "text/plain": [
       "Device                  0\n",
       "Launch_Year           231\n",
       "Domain                  2\n",
       "Developer_comapny      41\n",
       "Indian_Sales            0\n",
       "China_Sales             0\n",
       "Korea_Sales             0\n",
       "Other_Sales             0\n",
       "Global_Sales            0\n",
       "ScorebyCritic        7222\n",
       "No_ofCritics         7222\n",
       "ScorebyUser          5582\n",
       "No_ofUsers           7701\n",
       "Developer            5522\n",
       "Overall_Rating       5630\n",
       "dtype: int64"
      ]
     },
     "execution_count": 11,
     "metadata": {},
     "output_type": "execute_result"
    }
   ],
   "source": [
    "train.isnull().sum()"
   ]
  },
  {
   "cell_type": "code",
   "execution_count": 12,
   "metadata": {},
   "outputs": [
    {
     "data": {
      "text/html": [
       "<div>\n",
       "<style scoped>\n",
       "    .dataframe tbody tr th:only-of-type {\n",
       "        vertical-align: middle;\n",
       "    }\n",
       "\n",
       "    .dataframe tbody tr th {\n",
       "        vertical-align: top;\n",
       "    }\n",
       "\n",
       "    .dataframe thead th {\n",
       "        text-align: right;\n",
       "    }\n",
       "</style>\n",
       "<table border=\"1\" class=\"dataframe\">\n",
       "  <thead>\n",
       "    <tr style=\"text-align: right;\">\n",
       "      <th></th>\n",
       "      <th>Device</th>\n",
       "      <th>Launch_Year</th>\n",
       "      <th>Domain</th>\n",
       "      <th>Developer_comapny</th>\n",
       "      <th>Indian_Sales</th>\n",
       "      <th>China_Sales</th>\n",
       "      <th>Korea_Sales</th>\n",
       "      <th>Other_Sales</th>\n",
       "      <th>Global_Sales</th>\n",
       "      <th>ScorebyCritic</th>\n",
       "      <th>No_ofCritics</th>\n",
       "      <th>ScorebyUser</th>\n",
       "      <th>No_ofUsers</th>\n",
       "      <th>Developer</th>\n",
       "      <th>Overall_Rating</th>\n",
       "    </tr>\n",
       "  </thead>\n",
       "  <tbody>\n",
       "    <tr>\n",
       "      <th>count</th>\n",
       "      <td>14748</td>\n",
       "      <td>14517.000000</td>\n",
       "      <td>14746</td>\n",
       "      <td>14707</td>\n",
       "      <td>14748.000000</td>\n",
       "      <td>14748.000000</td>\n",
       "      <td>14748.000000</td>\n",
       "      <td>14748.000000</td>\n",
       "      <td>14748.000000</td>\n",
       "      <td>7526.000000</td>\n",
       "      <td>7526.000000</td>\n",
       "      <td>9166</td>\n",
       "      <td>7047.000000</td>\n",
       "      <td>9226</td>\n",
       "      <td>9118</td>\n",
       "    </tr>\n",
       "    <tr>\n",
       "      <th>unique</th>\n",
       "      <td>31</td>\n",
       "      <td>NaN</td>\n",
       "      <td>12</td>\n",
       "      <td>518</td>\n",
       "      <td>NaN</td>\n",
       "      <td>NaN</td>\n",
       "      <td>NaN</td>\n",
       "      <td>NaN</td>\n",
       "      <td>NaN</td>\n",
       "      <td>NaN</td>\n",
       "      <td>NaN</td>\n",
       "      <td>96</td>\n",
       "      <td>NaN</td>\n",
       "      <td>1576</td>\n",
       "      <td>8</td>\n",
       "    </tr>\n",
       "    <tr>\n",
       "      <th>top</th>\n",
       "      <td>PS2</td>\n",
       "      <td>NaN</td>\n",
       "      <td>Action</td>\n",
       "      <td>Electronic Arts</td>\n",
       "      <td>NaN</td>\n",
       "      <td>NaN</td>\n",
       "      <td>NaN</td>\n",
       "      <td>NaN</td>\n",
       "      <td>NaN</td>\n",
       "      <td>NaN</td>\n",
       "      <td>NaN</td>\n",
       "      <td>tbd</td>\n",
       "      <td>NaN</td>\n",
       "      <td>Ubisoft</td>\n",
       "      <td>E</td>\n",
       "    </tr>\n",
       "    <tr>\n",
       "      <th>freq</th>\n",
       "      <td>1932</td>\n",
       "      <td>NaN</td>\n",
       "      <td>2995</td>\n",
       "      <td>1294</td>\n",
       "      <td>NaN</td>\n",
       "      <td>NaN</td>\n",
       "      <td>NaN</td>\n",
       "      <td>NaN</td>\n",
       "      <td>NaN</td>\n",
       "      <td>NaN</td>\n",
       "      <td>NaN</td>\n",
       "      <td>2119</td>\n",
       "      <td>NaN</td>\n",
       "      <td>196</td>\n",
       "      <td>3643</td>\n",
       "    </tr>\n",
       "    <tr>\n",
       "      <th>mean</th>\n",
       "      <td>NaN</td>\n",
       "      <td>2006.217676</td>\n",
       "      <td>NaN</td>\n",
       "      <td>NaN</td>\n",
       "      <td>0.273585</td>\n",
       "      <td>0.149364</td>\n",
       "      <td>0.079891</td>\n",
       "      <td>0.048842</td>\n",
       "      <td>0.551876</td>\n",
       "      <td>69.181637</td>\n",
       "      <td>26.830853</td>\n",
       "      <td>NaN</td>\n",
       "      <td>161.749255</td>\n",
       "      <td>NaN</td>\n",
       "      <td>NaN</td>\n",
       "    </tr>\n",
       "    <tr>\n",
       "      <th>std</th>\n",
       "      <td>NaN</td>\n",
       "      <td>5.944182</td>\n",
       "      <td>NaN</td>\n",
       "      <td>NaN</td>\n",
       "      <td>0.728272</td>\n",
       "      <td>0.456193</td>\n",
       "      <td>0.286014</td>\n",
       "      <td>0.159235</td>\n",
       "      <td>1.372658</td>\n",
       "      <td>13.833710</td>\n",
       "      <td>19.094734</td>\n",
       "      <td>NaN</td>\n",
       "      <td>555.912492</td>\n",
       "      <td>NaN</td>\n",
       "      <td>NaN</td>\n",
       "    </tr>\n",
       "    <tr>\n",
       "      <th>min</th>\n",
       "      <td>NaN</td>\n",
       "      <td>1980.000000</td>\n",
       "      <td>NaN</td>\n",
       "      <td>NaN</td>\n",
       "      <td>0.000000</td>\n",
       "      <td>0.000000</td>\n",
       "      <td>0.000000</td>\n",
       "      <td>0.000000</td>\n",
       "      <td>0.020000</td>\n",
       "      <td>13.000000</td>\n",
       "      <td>3.000000</td>\n",
       "      <td>NaN</td>\n",
       "      <td>4.000000</td>\n",
       "      <td>NaN</td>\n",
       "      <td>NaN</td>\n",
       "    </tr>\n",
       "    <tr>\n",
       "      <th>25%</th>\n",
       "      <td>NaN</td>\n",
       "      <td>2003.000000</td>\n",
       "      <td>NaN</td>\n",
       "      <td>NaN</td>\n",
       "      <td>0.020000</td>\n",
       "      <td>0.000000</td>\n",
       "      <td>0.000000</td>\n",
       "      <td>0.000000</td>\n",
       "      <td>0.080000</td>\n",
       "      <td>61.000000</td>\n",
       "      <td>12.000000</td>\n",
       "      <td>NaN</td>\n",
       "      <td>10.000000</td>\n",
       "      <td>NaN</td>\n",
       "      <td>NaN</td>\n",
       "    </tr>\n",
       "    <tr>\n",
       "      <th>50%</th>\n",
       "      <td>NaN</td>\n",
       "      <td>2007.000000</td>\n",
       "      <td>NaN</td>\n",
       "      <td>NaN</td>\n",
       "      <td>0.090000</td>\n",
       "      <td>0.030000</td>\n",
       "      <td>0.000000</td>\n",
       "      <td>0.010000</td>\n",
       "      <td>0.200000</td>\n",
       "      <td>71.000000</td>\n",
       "      <td>22.000000</td>\n",
       "      <td>NaN</td>\n",
       "      <td>24.000000</td>\n",
       "      <td>NaN</td>\n",
       "      <td>NaN</td>\n",
       "    </tr>\n",
       "    <tr>\n",
       "      <th>75%</th>\n",
       "      <td>NaN</td>\n",
       "      <td>2010.000000</td>\n",
       "      <td>NaN</td>\n",
       "      <td>NaN</td>\n",
       "      <td>0.260000</td>\n",
       "      <td>0.120000</td>\n",
       "      <td>0.050000</td>\n",
       "      <td>0.040000</td>\n",
       "      <td>0.510000</td>\n",
       "      <td>80.000000</td>\n",
       "      <td>37.000000</td>\n",
       "      <td>NaN</td>\n",
       "      <td>82.000000</td>\n",
       "      <td>NaN</td>\n",
       "      <td>NaN</td>\n",
       "    </tr>\n",
       "    <tr>\n",
       "      <th>max</th>\n",
       "      <td>NaN</td>\n",
       "      <td>2020.000000</td>\n",
       "      <td>NaN</td>\n",
       "      <td>NaN</td>\n",
       "      <td>41.360000</td>\n",
       "      <td>28.960000</td>\n",
       "      <td>10.220000</td>\n",
       "      <td>8.450000</td>\n",
       "      <td>82.530000</td>\n",
       "      <td>98.000000</td>\n",
       "      <td>113.000000</td>\n",
       "      <td>NaN</td>\n",
       "      <td>10665.000000</td>\n",
       "      <td>NaN</td>\n",
       "      <td>NaN</td>\n",
       "    </tr>\n",
       "  </tbody>\n",
       "</table>\n",
       "</div>"
      ],
      "text/plain": [
       "       Device   Launch_Year  Domain Developer_comapny  Indian_Sales  \\\n",
       "count   14748  14517.000000   14746             14707  14748.000000   \n",
       "unique     31           NaN      12               518           NaN   \n",
       "top       PS2           NaN  Action   Electronic Arts           NaN   \n",
       "freq     1932           NaN    2995              1294           NaN   \n",
       "mean      NaN   2006.217676     NaN               NaN      0.273585   \n",
       "std       NaN      5.944182     NaN               NaN      0.728272   \n",
       "min       NaN   1980.000000     NaN               NaN      0.000000   \n",
       "25%       NaN   2003.000000     NaN               NaN      0.020000   \n",
       "50%       NaN   2007.000000     NaN               NaN      0.090000   \n",
       "75%       NaN   2010.000000     NaN               NaN      0.260000   \n",
       "max       NaN   2020.000000     NaN               NaN     41.360000   \n",
       "\n",
       "         China_Sales   Korea_Sales   Other_Sales  Global_Sales  ScorebyCritic  \\\n",
       "count   14748.000000  14748.000000  14748.000000  14748.000000    7526.000000   \n",
       "unique           NaN           NaN           NaN           NaN            NaN   \n",
       "top              NaN           NaN           NaN           NaN            NaN   \n",
       "freq             NaN           NaN           NaN           NaN            NaN   \n",
       "mean        0.149364      0.079891      0.048842      0.551876      69.181637   \n",
       "std         0.456193      0.286014      0.159235      1.372658      13.833710   \n",
       "min         0.000000      0.000000      0.000000      0.020000      13.000000   \n",
       "25%         0.000000      0.000000      0.000000      0.080000      61.000000   \n",
       "50%         0.030000      0.000000      0.010000      0.200000      71.000000   \n",
       "75%         0.120000      0.050000      0.040000      0.510000      80.000000   \n",
       "max        28.960000     10.220000      8.450000     82.530000      98.000000   \n",
       "\n",
       "        No_ofCritics ScorebyUser    No_ofUsers Developer Overall_Rating  \n",
       "count    7526.000000        9166   7047.000000      9226           9118  \n",
       "unique           NaN          96           NaN      1576              8  \n",
       "top              NaN         tbd           NaN   Ubisoft              E  \n",
       "freq             NaN        2119           NaN       196           3643  \n",
       "mean       26.830853         NaN    161.749255       NaN            NaN  \n",
       "std        19.094734         NaN    555.912492       NaN            NaN  \n",
       "min         3.000000         NaN      4.000000       NaN            NaN  \n",
       "25%        12.000000         NaN     10.000000       NaN            NaN  \n",
       "50%        22.000000         NaN     24.000000       NaN            NaN  \n",
       "75%        37.000000         NaN     82.000000       NaN            NaN  \n",
       "max       113.000000         NaN  10665.000000       NaN            NaN  "
      ]
     },
     "execution_count": 12,
     "metadata": {},
     "output_type": "execute_result"
    }
   ],
   "source": [
    "train.describe(include='all')"
   ]
  },
  {
   "cell_type": "code",
   "execution_count": 13,
   "metadata": {},
   "outputs": [
    {
     "data": {
      "text/plain": [
       "(14748, 15)"
      ]
     },
     "execution_count": 13,
     "metadata": {},
     "output_type": "execute_result"
    }
   ],
   "source": [
    "train.shape"
   ]
  },
  {
   "cell_type": "code",
   "execution_count": 14,
   "metadata": {},
   "outputs": [],
   "source": [
    "train_num_col=[i for i in train.columns if train[i].dtype != 'O' and train[i].isna().sum()>1]"
   ]
  },
  {
   "cell_type": "code",
   "execution_count": 15,
   "metadata": {},
   "outputs": [],
   "source": [
    "test_num_na = [i for i in test.columns if test[i].dtype != 'O' and test[i].isna().sum()>1]"
   ]
  },
  {
   "cell_type": "code",
   "execution_count": 16,
   "metadata": {},
   "outputs": [],
   "source": [
    "for feature in train_num_col:\n",
    "    train[feature].fillna(train[feature].mean(), inplace=True)"
   ]
  },
  {
   "cell_type": "code",
   "execution_count": 17,
   "metadata": {},
   "outputs": [],
   "source": [
    "for feature in test_num_na:\n",
    "    test[feature].fillna(test[feature].mean(), inplace=True)"
   ]
  },
  {
   "cell_type": "code",
   "execution_count": 18,
   "metadata": {},
   "outputs": [
    {
     "data": {
      "text/plain": [
       "Device                  0\n",
       "Launch_Year             0\n",
       "Domain                  2\n",
       "Developer_comapny      41\n",
       "Indian_Sales            0\n",
       "China_Sales             0\n",
       "Korea_Sales             0\n",
       "Other_Sales             0\n",
       "Global_Sales            0\n",
       "ScorebyCritic           0\n",
       "No_ofCritics            0\n",
       "ScorebyUser          5582\n",
       "No_ofUsers              0\n",
       "Developer            5522\n",
       "Overall_Rating       5630\n",
       "dtype: int64"
      ]
     },
     "execution_count": 18,
     "metadata": {},
     "output_type": "execute_result"
    }
   ],
   "source": [
    "train.isnull().sum()"
   ]
  },
  {
   "cell_type": "code",
   "execution_count": 19,
   "metadata": {},
   "outputs": [
    {
     "data": {
      "text/plain": [
       "Row_ID                  0\n",
       "Application             0\n",
       "Device                  0\n",
       "Launch_Year             0\n",
       "Domain                  0\n",
       "Developer_comapny      13\n",
       "Indian_Sales            0\n",
       "China_Sales             0\n",
       "Korea_Sales             0\n",
       "Other_Sales             0\n",
       "ScorebyCritic           0\n",
       "No_ofCritics            0\n",
       "ScorebyUser          1138\n",
       "No_ofUsers              0\n",
       "Developer            1117\n",
       "Overall_Rating       1155\n",
       "dtype: int64"
      ]
     },
     "execution_count": 19,
     "metadata": {},
     "output_type": "execute_result"
    }
   ],
   "source": [
    "test.isnull().sum()"
   ]
  },
  {
   "cell_type": "code",
   "execution_count": 20,
   "metadata": {},
   "outputs": [],
   "source": [
    "train_cat_feature = [i for i in train.columns if train[i].dtype == 'O']\n",
    "test_cat_feature = [i for i in test.columns if test[i].dtype == 'O']"
   ]
  },
  {
   "cell_type": "code",
   "execution_count": 21,
   "metadata": {},
   "outputs": [],
   "source": [
    "train.drop(['Developer_comapny','ScorebyUser'], axis = 1, inplace=True)\n",
    "test.drop(['Developer_comapny','ScorebyUser'], axis = 1, inplace=True)"
   ]
  },
  {
   "cell_type": "code",
   "execution_count": 22,
   "metadata": {},
   "outputs": [],
   "source": [
    "train_cat_na = [i for i in train.columns if train[i].dtype == 'O' and train[i].isna().sum()>1 ]\n",
    "test_cat_na = [i for i in test.columns if test[i].dtype == 'O' and test[i].isna().sum()>1 ]"
   ]
  },
  {
   "cell_type": "code",
   "execution_count": 23,
   "metadata": {},
   "outputs": [
    {
     "data": {
      "text/plain": [
       "Device               0\n",
       "Launch_Year          0\n",
       "Domain               2\n",
       "Indian_Sales         0\n",
       "China_Sales          0\n",
       "Korea_Sales          0\n",
       "Other_Sales          0\n",
       "Global_Sales         0\n",
       "ScorebyCritic        0\n",
       "No_ofCritics         0\n",
       "No_ofUsers           0\n",
       "Developer         5522\n",
       "Overall_Rating    5630\n",
       "dtype: int64"
      ]
     },
     "execution_count": 23,
     "metadata": {},
     "output_type": "execute_result"
    }
   ],
   "source": [
    "train.isnull().sum()"
   ]
  },
  {
   "cell_type": "code",
   "execution_count": 24,
   "metadata": {},
   "outputs": [],
   "source": [
    "for feature in train_cat_na:\n",
    "    train[feature].fillna(\"Missing\", inplace=True)"
   ]
  },
  {
   "cell_type": "code",
   "execution_count": 25,
   "metadata": {},
   "outputs": [],
   "source": [
    "for feature in test_cat_na:\n",
    "    test[feature].fillna(\"Missing\", inplace=True)"
   ]
  },
  {
   "cell_type": "code",
   "execution_count": 26,
   "metadata": {},
   "outputs": [],
   "source": [
    "from sklearn.preprocessing import LabelEncoder\n",
    "le=LabelEncoder()\n",
    "x=train\n",
    "for i in range(0,x.shape[1]):\n",
    "    if x.dtypes[i]=='object':\n",
    "        x[x.columns[i]]=le.fit_transform(x[x.columns[i]])\n"
   ]
  },
  {
   "cell_type": "code",
   "execution_count": 27,
   "metadata": {},
   "outputs": [],
   "source": [
    "from sklearn.preprocessing import LabelEncoder\n",
    "le=LabelEncoder()\n",
    "x=test\n",
    "for i in range(0,x.shape[1]):\n",
    "    if x.dtypes[i]=='object':\n",
    "        x[x.columns[i]]=le.fit_transform(x[x.columns[i]])\n"
   ]
  },
  {
   "cell_type": "code",
   "execution_count": 28,
   "metadata": {},
   "outputs": [
    {
     "name": "stdout",
     "output_type": "stream",
     "text": [
      "<class 'pandas.core.frame.DataFrame'>\n",
      "RangeIndex: 14748 entries, 0 to 14747\n",
      "Data columns (total 13 columns):\n",
      " #   Column          Non-Null Count  Dtype  \n",
      "---  ------          --------------  -----  \n",
      " 0   Device          14748 non-null  int32  \n",
      " 1   Launch_Year     14748 non-null  float64\n",
      " 2   Domain          14748 non-null  int32  \n",
      " 3   Indian_Sales    14748 non-null  float64\n",
      " 4   China_Sales     14748 non-null  float64\n",
      " 5   Korea_Sales     14748 non-null  float64\n",
      " 6   Other_Sales     14748 non-null  float64\n",
      " 7   Global_Sales    14748 non-null  float64\n",
      " 8   ScorebyCritic   14748 non-null  float64\n",
      " 9   No_ofCritics    14748 non-null  float64\n",
      " 10  No_ofUsers      14748 non-null  float64\n",
      " 11  Developer       14748 non-null  int32  \n",
      " 12  Overall_Rating  14748 non-null  int32  \n",
      "dtypes: float64(9), int32(4)\n",
      "memory usage: 1.2 MB\n"
     ]
    }
   ],
   "source": [
    "train.info()"
   ]
  },
  {
   "cell_type": "code",
   "execution_count": 29,
   "metadata": {},
   "outputs": [
    {
     "name": "stdout",
     "output_type": "stream",
     "text": [
      "<class 'pandas.core.frame.DataFrame'>\n",
      "RangeIndex: 2018 entries, 0 to 2017\n",
      "Data columns (total 14 columns):\n",
      " #   Column          Non-Null Count  Dtype  \n",
      "---  ------          --------------  -----  \n",
      " 0   Row_ID          2018 non-null   int64  \n",
      " 1   Application     2018 non-null   int32  \n",
      " 2   Device          2018 non-null   int32  \n",
      " 3   Launch_Year     2018 non-null   float64\n",
      " 4   Domain          2018 non-null   int32  \n",
      " 5   Indian_Sales    2018 non-null   float64\n",
      " 6   China_Sales     2018 non-null   float64\n",
      " 7   Korea_Sales     2018 non-null   float64\n",
      " 8   Other_Sales     2018 non-null   float64\n",
      " 9   ScorebyCritic   2018 non-null   float64\n",
      " 10  No_ofCritics    2018 non-null   float64\n",
      " 11  No_ofUsers      2018 non-null   float64\n",
      " 12  Developer       2018 non-null   int32  \n",
      " 13  Overall_Rating  2018 non-null   int32  \n",
      "dtypes: float64(8), int32(5), int64(1)\n",
      "memory usage: 181.4 KB\n"
     ]
    }
   ],
   "source": [
    "test.info()"
   ]
  },
  {
   "cell_type": "code",
   "execution_count": 30,
   "metadata": {},
   "outputs": [],
   "source": [
    "x = train.drop(columns = ['Global_Sales'])\n",
    "y = train['Global_Sales']"
   ]
  },
  {
   "cell_type": "code",
   "execution_count": 31,
   "metadata": {},
   "outputs": [
    {
     "data": {
      "text/plain": [
       "(2018, 14)"
      ]
     },
     "execution_count": 31,
     "metadata": {},
     "output_type": "execute_result"
    }
   ],
   "source": [
    "test.shape"
   ]
  },
  {
   "cell_type": "code",
   "execution_count": 32,
   "metadata": {},
   "outputs": [
    {
     "data": {
      "text/plain": [
       "(14748, 12)"
      ]
     },
     "execution_count": 32,
     "metadata": {},
     "output_type": "execute_result"
    }
   ],
   "source": [
    "x.shape"
   ]
  },
  {
   "cell_type": "code",
   "execution_count": 33,
   "metadata": {},
   "outputs": [],
   "source": [
    "#splitting\n",
    "from sklearn.model_selection import train_test_split\n",
    "x_train, x_test, y_train, y_test = train_test_split(x, y, test_size = 0.2)"
   ]
  },
  {
   "cell_type": "code",
   "execution_count": 34,
   "metadata": {},
   "outputs": [],
   "source": [
    "from sklearn.linear_model import LinearRegression\n",
    "reg_model  = LinearRegression()"
   ]
  },
  {
   "cell_type": "code",
   "execution_count": 35,
   "metadata": {},
   "outputs": [
    {
     "data": {
      "text/plain": [
       "LinearRegression(copy_X=True, fit_intercept=True, n_jobs=None, normalize=False)"
      ]
     },
     "execution_count": 35,
     "metadata": {},
     "output_type": "execute_result"
    }
   ],
   "source": [
    "reg_model.fit(x_train, y_train)"
   ]
  },
  {
   "cell_type": "code",
   "execution_count": 36,
   "metadata": {},
   "outputs": [],
   "source": [
    "pred = reg_model.predict(x_test)"
   ]
  },
  {
   "cell_type": "code",
   "execution_count": 37,
   "metadata": {},
   "outputs": [],
   "source": [
    "df = pd.DataFrame({\"Actual\":y_test,\"Predicted\":pred})"
   ]
  },
  {
   "cell_type": "code",
   "execution_count": 38,
   "metadata": {},
   "outputs": [
    {
     "data": {
      "text/html": [
       "<div>\n",
       "<style scoped>\n",
       "    .dataframe tbody tr th:only-of-type {\n",
       "        vertical-align: middle;\n",
       "    }\n",
       "\n",
       "    .dataframe tbody tr th {\n",
       "        vertical-align: top;\n",
       "    }\n",
       "\n",
       "    .dataframe thead th {\n",
       "        text-align: right;\n",
       "    }\n",
       "</style>\n",
       "<table border=\"1\" class=\"dataframe\">\n",
       "  <thead>\n",
       "    <tr style=\"text-align: right;\">\n",
       "      <th></th>\n",
       "      <th>Actual</th>\n",
       "      <th>Predicted</th>\n",
       "    </tr>\n",
       "  </thead>\n",
       "  <tbody>\n",
       "    <tr>\n",
       "      <th>11482</th>\n",
       "      <td>0.08</td>\n",
       "      <td>0.080275</td>\n",
       "    </tr>\n",
       "    <tr>\n",
       "      <th>3435</th>\n",
       "      <td>0.57</td>\n",
       "      <td>0.570351</td>\n",
       "    </tr>\n",
       "    <tr>\n",
       "      <th>7645</th>\n",
       "      <td>0.19</td>\n",
       "      <td>0.190253</td>\n",
       "    </tr>\n",
       "    <tr>\n",
       "      <th>11723</th>\n",
       "      <td>0.07</td>\n",
       "      <td>0.070282</td>\n",
       "    </tr>\n",
       "    <tr>\n",
       "      <th>13038</th>\n",
       "      <td>0.05</td>\n",
       "      <td>0.040195</td>\n",
       "    </tr>\n",
       "    <tr>\n",
       "      <th>...</th>\n",
       "      <td>...</td>\n",
       "      <td>...</td>\n",
       "    </tr>\n",
       "    <tr>\n",
       "      <th>11965</th>\n",
       "      <td>0.07</td>\n",
       "      <td>0.070308</td>\n",
       "    </tr>\n",
       "    <tr>\n",
       "      <th>6051</th>\n",
       "      <td>0.27</td>\n",
       "      <td>0.280173</td>\n",
       "    </tr>\n",
       "    <tr>\n",
       "      <th>4240</th>\n",
       "      <td>0.44</td>\n",
       "      <td>0.440170</td>\n",
       "    </tr>\n",
       "    <tr>\n",
       "      <th>4911</th>\n",
       "      <td>0.37</td>\n",
       "      <td>0.370262</td>\n",
       "    </tr>\n",
       "    <tr>\n",
       "      <th>2244</th>\n",
       "      <td>0.91</td>\n",
       "      <td>0.920240</td>\n",
       "    </tr>\n",
       "  </tbody>\n",
       "</table>\n",
       "<p>2950 rows × 2 columns</p>\n",
       "</div>"
      ],
      "text/plain": [
       "       Actual  Predicted\n",
       "11482    0.08   0.080275\n",
       "3435     0.57   0.570351\n",
       "7645     0.19   0.190253\n",
       "11723    0.07   0.070282\n",
       "13038    0.05   0.040195\n",
       "...       ...        ...\n",
       "11965    0.07   0.070308\n",
       "6051     0.27   0.280173\n",
       "4240     0.44   0.440170\n",
       "4911     0.37   0.370262\n",
       "2244     0.91   0.920240\n",
       "\n",
       "[2950 rows x 2 columns]"
      ]
     },
     "execution_count": 38,
     "metadata": {},
     "output_type": "execute_result"
    }
   ],
   "source": [
    "df"
   ]
  },
  {
   "cell_type": "code",
   "execution_count": 39,
   "metadata": {},
   "outputs": [
    {
     "data": {
      "text/plain": [
       "0.9999848481994966"
      ]
     },
     "execution_count": 39,
     "metadata": {},
     "output_type": "execute_result"
    }
   ],
   "source": [
    "reg_model.score(x_train, y_train)"
   ]
  },
  {
   "cell_type": "code",
   "execution_count": 40,
   "metadata": {},
   "outputs": [],
   "source": [
    "from sklearn.metrics import mean_squared_error, mean_absolute_error"
   ]
  },
  {
   "cell_type": "code",
   "execution_count": 41,
   "metadata": {},
   "outputs": [
    {
     "data": {
      "text/plain": [
       "(2.9195523130031783e-05, 0.0030800813401206367)"
      ]
     },
     "execution_count": 41,
     "metadata": {},
     "output_type": "execute_result"
    }
   ],
   "source": [
    "mse = mean_squared_error(df.Actual, df.Predicted)\n",
    "mae = mean_absolute_error(df.Actual, df.Predicted)\n",
    "mse,mae"
   ]
  },
  {
   "cell_type": "code",
   "execution_count": 42,
   "metadata": {},
   "outputs": [
    {
     "data": {
      "text/plain": [
       "0.005403288177585181"
      ]
     },
     "execution_count": 42,
     "metadata": {},
     "output_type": "execute_result"
    }
   ],
   "source": [
    "np.sqrt(mse)"
   ]
  },
  {
   "cell_type": "code",
   "execution_count": 43,
   "metadata": {},
   "outputs": [],
   "source": [
    "test.drop(['Row_ID','Application'],axis=1,inplace=True)"
   ]
  },
  {
   "cell_type": "code",
   "execution_count": 44,
   "metadata": {},
   "outputs": [],
   "source": [
    "new = reg_model.predict(test)"
   ]
  },
  {
   "cell_type": "code",
   "execution_count": 45,
   "metadata": {},
   "outputs": [],
   "source": [
    "new_df = pd.DataFrame({\"Row_ID\":Row_ID,\"Global_Sales\":new})"
   ]
  },
  {
   "cell_type": "code",
   "execution_count": 46,
   "metadata": {},
   "outputs": [],
   "source": [
    "new_df.to_csv(r\"C:\\Users\\Lenovo\\Desktop\\level1 p1\\sub1.csv\", index=False)"
   ]
  },
  {
   "cell_type": "code",
   "execution_count": null,
   "metadata": {},
   "outputs": [],
   "source": []
  }
 ],
 "metadata": {
  "kernelspec": {
   "display_name": "Python 3",
   "language": "python",
   "name": "python3"
  },
  "language_info": {
   "codemirror_mode": {
    "name": "ipython",
    "version": 3
   },
   "file_extension": ".py",
   "mimetype": "text/x-python",
   "name": "python",
   "nbconvert_exporter": "python",
   "pygments_lexer": "ipython3",
   "version": "3.7.1"
  }
 },
 "nbformat": 4,
 "nbformat_minor": 2
}
